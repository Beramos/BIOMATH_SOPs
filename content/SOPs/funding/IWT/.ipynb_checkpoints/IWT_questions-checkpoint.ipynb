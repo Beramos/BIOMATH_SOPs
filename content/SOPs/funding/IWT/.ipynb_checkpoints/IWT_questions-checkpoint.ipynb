{
 "cells": [
  {
   "cell_type": "markdown",
   "metadata": {},
   "source": [
    "IWT: de Verdediging\n",
    "================\n",
    "Notebook met (BIOMATH) advies/ervaring met het [Agentschap voor Innovatie door Wetenschap en Technologie](www.iwt.be). Bevat:\n",
    "* **Algemene tips**, over de presentatie, houding, etc.\n",
    "* **Vragen van de IWT-jury**, algemene en onderwerp-specifieke\n",
    "* **Goede antwoorden** volgens de ervaring van BIOMATH, altijd vanuit het perspectief van een zeer kritische jury die graag een rendabel en innoverend project ziet.\n",
    "\n",
    "De vraag- en antwoord-cellen verwijzen naar elkaar. ([Hoe?](http://stackoverflow.com/questions/28080066/how-to-reference-a-ipython-notebook-cell-in-markdown))"
   ]
  },
  {
   "cell_type": "markdown",
   "metadata": {},
   "source": [
    "## Algemeen"
   ]
  },
  {
   "cell_type": "markdown",
   "metadata": {},
   "source": [
    "### Presentatie\n",
    "5 minutes of fame"
   ]
  },
  {
   "cell_type": "markdown",
   "metadata": {},
   "source": [
    "### Houding\n",
    "#### Wat wil de jury?\n",
    "#### Hoe beantwoord je daaraan?"
   ]
  },
  {
   "cell_type": "markdown",
   "metadata": {},
   "source": [
    "## Vragen"
   ]
  },
  {
   "cell_type": "markdown",
   "metadata": {},
   "source": [
    "### Algemeen\n",
    "Hier kan je vragen vinden i.v.m. het project, link met de industrie, rendabiliteit"
   ]
  },
  {
   "cell_type": "markdown",
   "metadata": {},
   "source": [
    "##### Voorbeeldvraag\n",
    "Elke vraag wordt gelinkt aan een antwoord-cel:\n",
    "\n",
    "<a id='voorbeeldvraag'></a>\n",
    "\n",
    "Ga naar het [antwoord](#voorbeeldantwoord)."
   ]
  },
  {
   "cell_type": "markdown",
   "metadata": {},
   "source": [
    "### Onderwerp-specifiek\n",
    "Archief van vragen gesteld op IWT-aanvragen door BIOMATH"
   ]
  },
  {
   "cell_type": "markdown",
   "metadata": {},
   "source": [
    "#### Modellering"
   ]
  },
  {
   "cell_type": "markdown",
   "metadata": {},
   "source": [
    "#### Waterzuivering"
   ]
  },
  {
   "cell_type": "markdown",
   "metadata": {},
   "source": [
    "#### Farmaceutica"
   ]
  },
  {
   "cell_type": "markdown",
   "metadata": {},
   "source": [
    "#### Onderwerp 4, 5, ... aan te vullen door IWT-veteranen"
   ]
  },
  {
   "cell_type": "markdown",
   "metadata": {},
   "source": [
    "## Antwoorden\n",
    "Goede antwoorden vanuit het perspectief van de jury"
   ]
  },
  {
   "cell_type": "markdown",
   "metadata": {},
   "source": [
    "### Algemeen\n",
    "Hier kan je mogelijke antwoorden vinden i.v.m. het project, link met de industrie, rendabiliteit"
   ]
  },
  {
   "cell_type": "markdown",
   "metadata": {},
   "source": [
    "##### Voorbeeldantwoord\n",
    "Elk antwoord wordt terug gelinkt aan een vraag-cel:\n",
    "\n",
    "<a id='voorbeeldantwoord'></a>\n",
    "\n",
    "Ga terug naar de [vraag](#voorbeeldvraag)."
   ]
  },
  {
   "cell_type": "markdown",
   "metadata": {},
   "source": [
    "### Onderwerp-specifiek"
   ]
  },
  {
   "cell_type": "markdown",
   "metadata": {},
   "source": [
    "#### Modellering"
   ]
  },
  {
   "cell_type": "markdown",
   "metadata": {},
   "source": [
    "#### Waterzuivering"
   ]
  },
  {
   "cell_type": "markdown",
   "metadata": {},
   "source": [
    "#### Farmaceutica"
   ]
  },
  {
   "cell_type": "markdown",
   "metadata": {},
   "source": [
    "#### Onderwerp 4, 5, ... aan te vullen door IWT-veteranen"
   ]
  }
 ],
 "metadata": {
  "anaconda-cloud": {},
  "kernelspec": {
   "display_name": "Python 2",
   "language": "python",
   "name": "python2"
  },
  "language_info": {
   "codemirror_mode": {
    "name": "ipython",
    "version": 2
   },
   "file_extension": ".py",
   "mimetype": "text/x-python",
   "name": "python",
   "nbconvert_exporter": "python",
   "pygments_lexer": "ipython2",
   "version": "2.7.12"
  },
  "toc": {
   "toc_cell": false,
   "toc_number_sections": true,
   "toc_threshold": 6,
   "toc_window_display": false
  }
 },
 "nbformat": 4,
 "nbformat_minor": 0
}
